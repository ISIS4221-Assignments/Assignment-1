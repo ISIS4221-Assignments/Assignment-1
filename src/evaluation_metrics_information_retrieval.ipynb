{
 "cells": [
  {
   "cell_type": "code",
   "execution_count": 1,
   "id": "2b6fda83",
   "metadata": {},
   "outputs": [],
   "source": [
    "from typing import List\n",
    "import numpy as np"
   ]
  },
  {
   "cell_type": "markdown",
   "id": "13549e8e",
   "metadata": {},
   "source": [
    "# Implementación precision\n",
    "\n",
    "La relevancia es binaria"
   ]
  },
  {
   "cell_type": "code",
   "execution_count": null,
   "id": "fcf50722",
   "metadata": {},
   "outputs": [],
   "source": [
    "def precision(relevance: List[int]) -> float:\n",
    "\tif len(relevance) == 0:\n",
    "\t\treturn 0.0\n",
    "\trelevance = np.array(relevance, dtype = int)\n",
    "\treturn float(np.mean(relevance))"
   ]
  },
  {
   "cell_type": "code",
   "execution_count": null,
   "id": "f2819819",
   "metadata": {},
   "outputs": [
    {
     "data": {
      "text/plain": [
       "0.25"
      ]
     },
     "execution_count": 3,
     "metadata": {},
     "output_type": "execute_result"
    }
   ],
   "source": [
    "precision([0,0,0,1])"
   ]
  },
  {
   "cell_type": "markdown",
   "id": "f97fe0fa",
   "metadata": {},
   "source": [
    "# Implementación precision at k\n",
    "La relevancia es binaria"
   ]
  },
  {
   "cell_type": "code",
   "execution_count": null,
   "id": "a1c91280",
   "metadata": {},
   "outputs": [],
   "source": [
    "def precision_at_k(relevance: List[int], k: int) -> float:\n",
    "\tif k <= 0:\n",
    "\t\traise ValueError(\"K should be greater than 0\")\n",
    "\tif len(relevance) == 0:\n",
    "\t\treturn 0.0\n",
    "\trelevance = np.array(relevance, dtype = int)\n",
    "\tk = min(k, len(relevance))\n",
    "\treturn float(np.mean(relevance[:k]))\n"
   ]
  },
  {
   "cell_type": "code",
   "execution_count": 8,
   "id": "6b5513dd",
   "metadata": {},
   "outputs": [
    {
     "data": {
      "text/plain": [
       "0.25"
      ]
     },
     "execution_count": 8,
     "metadata": {},
     "output_type": "execute_result"
    }
   ],
   "source": [
    "precision_at_k([0,0,0,1], 4)"
   ]
  },
  {
   "cell_type": "markdown",
   "id": "1c7131ae",
   "metadata": {},
   "source": [
    "# Implementación recall at k\n",
    "La relevancia es binaria"
   ]
  },
  {
   "cell_type": "code",
   "execution_count": 11,
   "id": "123a4287",
   "metadata": {},
   "outputs": [],
   "source": [
    "def recall_at_k(relevance: List[int], number_relevant_documents: int, k: int) -> float:\n",
    "\tif k <= 0:\n",
    "\t\traise ValueError(\"K should be greater than 0\")\n",
    "\tif number_relevant_documents <= 0:\n",
    "\t\treturn 0.0\n",
    "\tif len(relevance) == 0:\n",
    "\t\treturn 0.0\n",
    "\trelevance = np.array(relevance, dtype = int)\n",
    "\tk = min(k, len(relevance))\n",
    "\treturn float(np.sum(relevance[:k]) / number_relevant_documents)"
   ]
  },
  {
   "cell_type": "code",
   "execution_count": 17,
   "id": "3a0b322b",
   "metadata": {},
   "outputs": [
    {
     "data": {
      "text/plain": [
       "0.0"
      ]
     },
     "execution_count": 17,
     "metadata": {},
     "output_type": "execute_result"
    }
   ],
   "source": [
    "recall_at_k([0, 0, 0, 1], 4, 1)"
   ]
  },
  {
   "cell_type": "markdown",
   "id": "eb34030c",
   "metadata": {},
   "source": [
    "# Implementación average precision\n",
    "La relevancia es binaria"
   ]
  },
  {
   "cell_type": "code",
   "execution_count": null,
   "id": "5dbef0c1",
   "metadata": {},
   "outputs": [],
   "source": [
    "# Se supone que el vector tiene la totalidad de documentos relevantes\n",
    "def average_precision(relevance: List[int]) -> float:\n",
    "\trelevance_array = np.array(relevance, dtype=int)\n",
    "\ttotal_relevant = np.sum(relevance_array)\n",
    "\tif total_relevant == 0:\n",
    "\t\treturn 0.0\n",
    "\n",
    "\tprecisions = []\n",
    "\tfor i, rel in enumerate(relevance_array, start=1):  # posiciones empiezan en 1\n",
    "\t\tif rel == 1:\n",
    "\t\t\tprecisions.append(np.mean(relevance_array[:i]))  # precisión@i\n",
    "\n",
    "\treturn float(np.sum(precisions) / total_relevant)"
   ]
  },
  {
   "cell_type": "code",
   "execution_count": 13,
   "id": "269388e4",
   "metadata": {},
   "outputs": [
    {
     "data": {
      "text/plain": [
       "0.5961904761904762"
      ]
     },
     "execution_count": 13,
     "metadata": {},
     "output_type": "execute_result"
    }
   ],
   "source": [
    "average_precision([0,1,0,1,1,1,1])"
   ]
  },
  {
   "cell_type": "markdown",
   "id": "d007be70",
   "metadata": {},
   "source": [
    "# Mean Average Precision\n",
    "La relevancia es binaria"
   ]
  },
  {
   "cell_type": "code",
   "execution_count": null,
   "id": "5a39506e",
   "metadata": {},
   "outputs": [],
   "source": [
    "# Asumiendo que cada vector tiene la totalidad de los documentos relevantes\n",
    "def mean_average_precision(all_relevances: List[List[int]]) -> float:\n",
    "    if len(all_relevances) == 0:\n",
    "        return 0.0\n",
    "    ap_values = [average_precision(r) for r in all_relevances]\n",
    "    return float(np.mean(ap_values))"
   ]
  },
  {
   "cell_type": "markdown",
   "id": "6800d237",
   "metadata": {},
   "source": [
    "# DCG\n",
    "La relevancia es un numero natural"
   ]
  }
 ],
 "metadata": {
  "kernelspec": {
   "display_name": "env (3.13.5)",
   "language": "python",
   "name": "python3"
  },
  "language_info": {
   "codemirror_mode": {
    "name": "ipython",
    "version": 3
   },
   "file_extension": ".py",
   "mimetype": "text/x-python",
   "name": "python",
   "nbconvert_exporter": "python",
   "pygments_lexer": "ipython3",
   "version": "3.13.5"
  }
 },
 "nbformat": 4,
 "nbformat_minor": 5
}
