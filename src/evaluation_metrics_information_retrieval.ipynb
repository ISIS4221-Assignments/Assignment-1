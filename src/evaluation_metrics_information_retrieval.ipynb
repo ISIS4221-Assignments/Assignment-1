{
 "cells": [
  {
   "cell_type": "code",
   "execution_count": 32,
   "id": "2b6fda83",
   "metadata": {},
   "outputs": [],
   "source": [
    "from typing import List, Union\n",
    "import numpy as np"
   ]
  },
  {
   "cell_type": "code",
   "execution_count": null,
   "id": "fcf50722",
   "metadata": {},
   "outputs": [],
   "source": [
    "def precision(relevance: Union[List[int], np.ndarray]) -> float:\n",
    "\n",
    "\t\"\"\"\n",
    "    Calcula la métrica de Precision en recuperación de información.\n",
    "\n",
    "    La Precision se define como la proporción de documentos relevantes \n",
    "    (valor 1 en el vector binario de entrada) dentro del conjunto de \n",
    "    documentos recuperados.\n",
    "\n",
    "    Fórmula:\n",
    "        Precision = (# documentos relevantes recuperados) / (total documentos recuperados)\n",
    "\n",
    "    Parámetros\n",
    "    ----------\n",
    "    relevance : List[int]\n",
    "        Lista binaria donde cada posición representa un documento recuperado:\n",
    "        - 1 indica que el documento es relevante.\n",
    "        - 0 indica que el documento no es relevante.\n",
    "\n",
    "    Retorna\n",
    "    -------\n",
    "    float\n",
    "        Valor de la precisión, en el rango [0.0, 1.0].\n",
    "        Retorna 0.0 si la lista está vacía.\n",
    "    \"\"\"\n",
    "\n",
    "\t# Si no se recuperaron documentos, la métrica es 0.0\n",
    "\tif len(relevance) == 0:\n",
    "\t\treturn 0.0\n",
    "\t# Conversión de la lista a un array numPy para facilitar operaciones\n",
    "\trelevance = np.array(relevance, dtype = int)\n",
    "\t# La precisión se calcula como el promedio de los valores binarios\n",
    "\treturn float(np.mean(relevance))"
   ]
  },
  {
   "cell_type": "code",
   "execution_count": null,
   "id": "f2819819",
   "metadata": {},
   "outputs": [
    {
     "data": {
      "text/plain": [
       "0.25"
      ]
     },
     "execution_count": 3,
     "metadata": {},
     "output_type": "execute_result"
    }
   ],
   "source": [
    "precision([0,0,0,1])"
   ]
  },
  {
   "cell_type": "code",
   "execution_count": null,
   "id": "a1c91280",
   "metadata": {},
   "outputs": [],
   "source": [
    "def precision_at_k(relevance: Union[List[int], np.ndarray], k: int) -> float:\n",
    "\n",
    "\t\"\"\"\n",
    "    Calcula la métrica de Precision@K en recuperación de información.\n",
    "\n",
    "    Precision@K mide la proporción de documentos relevantes entre los \n",
    "    primeros K documentos recuperados. Se utiliza para evaluar la calidad \n",
    "    de los resultados en el top-K.\n",
    "\n",
    "    Fórmula:\n",
    "        Precision@K = (# documentos relevantes en top-K) / K\n",
    "\n",
    "    Parámetros\n",
    "    ----------\n",
    "    relevance : List[int]\n",
    "        Lista binaria donde cada posición representa un documento recuperado:\n",
    "        - 1 indica que el documento es relevante.\n",
    "        - 0 indica que el documento no es relevante.\n",
    "    k : int\n",
    "        Número de documentos del top-K a considerar. \n",
    "        Debe ser mayor que 0.\n",
    "\n",
    "    Retorna\n",
    "    -------\n",
    "    float\n",
    "        Valor de Precision@K en el rango [0.0, 1.0].\n",
    "        Retorna 0.0 si la lista está vacía.\n",
    "\n",
    "    Lanza\n",
    "    -----\n",
    "    ValueError\n",
    "        Si el valor de `k` es menor o igual a 0.\n",
    "    \"\"\"\n",
    "\n",
    "\t# Se valida que k sea positivo y mayor a cero\n",
    "\tif k <= 0:\n",
    "\t\traise ValueError(\"k should be greater than 0\")\n",
    "\t# Si no se recuperaron documentos, la métrica es 0.0\n",
    "\tif len(relevance) == 0:\n",
    "\t\treturn 0.0\n",
    "\t# Conversión de la lista a un array numPy para facilitar operaciones\n",
    "\trelevance = np.array(relevance, dtype = int)\n",
    "\t# Se limita k al número real de documentos recuperados\n",
    "\tk = min(k, len(relevance))\n",
    "\t# Promedio de los valores binarios en el top-k\n",
    "\treturn float(np.mean(relevance[:k]))\n"
   ]
  },
  {
   "cell_type": "code",
   "execution_count": 8,
   "id": "6b5513dd",
   "metadata": {},
   "outputs": [
    {
     "data": {
      "text/plain": [
       "0.25"
      ]
     },
     "execution_count": 8,
     "metadata": {},
     "output_type": "execute_result"
    }
   ],
   "source": [
    "precision_at_k([0,0,0,1], 4)"
   ]
  },
  {
   "cell_type": "code",
   "execution_count": null,
   "id": "123a4287",
   "metadata": {},
   "outputs": [],
   "source": [
    "def recall_at_k(relevance: Union[List[int], np.ndarray], number_relevant_documents: int, k: int) -> float:\n",
    "\n",
    "\t\"\"\"\n",
    "    Calcula la métrica de Recall@K en recuperación de información.\n",
    "\n",
    "    Recall@K mide la fracción de documentos relevantes recuperados en el top-K,\n",
    "    en comparación con el número total de documentos relevantes que existen en \n",
    "    la colección.\n",
    "\n",
    "    Fórmula:\n",
    "        Recall@K = (# documentos relevantes en top-K) / (total documentos relevantes en la colección)\n",
    "\n",
    "    Parámetros\n",
    "    ----------\n",
    "    relevance : List[int]\n",
    "        Lista binaria donde cada posición representa un documento recuperado:\n",
    "        - 1 indica que el documento es relevante.\n",
    "        - 0 indica que el documento no es relevante.\n",
    "    number_relevant_documents : int\n",
    "        Número total de documentos relevantes en la colección.\n",
    "    k : int\n",
    "        Número de documentos del top-K a considerar.\n",
    "        Debe ser mayor que 0.\n",
    "\n",
    "    Retorna\n",
    "    -------\n",
    "    float\n",
    "        Valor de Recall@K en el rango [0.0, 1.0].\n",
    "        Retorna 0.0 si no existen documentos relevantes o si la lista está vacía.\n",
    "\n",
    "    Lanza\n",
    "    -----\n",
    "    ValueError\n",
    "        Si el valor de `k` es menor o igual a 0.\n",
    "    \"\"\"\n",
    "\n",
    "\t# Se valida que k sea positivo y mayor a cero\n",
    "\tif k <= 0:\n",
    "\t\traise ValueError(\"k should be greater than 0\")\n",
    "\t# Si no hay documentos relevantes, la métrica es 0.0\n",
    "\tif number_relevant_documents <= 0:\n",
    "\t\treturn 0.0\n",
    "\t# Si no se recuperaron documentos, la métrica es 0.0\n",
    "\tif len(relevance) == 0:\n",
    "\t\treturn 0.0\n",
    "\t# Conversión de la lista a un array numPy para facilitar operaciones\n",
    "\trelevance = np.array(relevance, dtype = int)\n",
    "\t# Se limita k al número real de documentos recuperados\n",
    "\tk = min(k, len(relevance))\n",
    "\t# Se calcula la métrica \n",
    "\treturn float(np.sum(relevance[:k]) / number_relevant_documents)"
   ]
  },
  {
   "cell_type": "code",
   "execution_count": 17,
   "id": "3a0b322b",
   "metadata": {},
   "outputs": [
    {
     "data": {
      "text/plain": [
       "0.0"
      ]
     },
     "execution_count": 17,
     "metadata": {},
     "output_type": "execute_result"
    }
   ],
   "source": [
    "recall_at_k([0, 0, 0, 1], 4, 1)"
   ]
  },
  {
   "cell_type": "code",
   "execution_count": null,
   "id": "5dbef0c1",
   "metadata": {},
   "outputs": [],
   "source": [
    "def average_precision(relevance: Union[List[int], np.ndarray]) -> float:\n",
    "\n",
    "\t\"\"\"\n",
    "    Calcula la métrica de Average Precision (AP) en recuperación de información.\n",
    "\n",
    "    Average Precision mide la calidad de la recuperación considerando \n",
    "    no solo cuántos documentos relevantes aparecen, sino también en qué \n",
    "    posiciones se encuentran. \n",
    "\n",
    "    La métrica se obtiene calculando la precisión cada vez que se \n",
    "    recupera un documento relevante y luego promediando estos valores.\n",
    "\n",
    "    Fórmula:\n",
    "        AP = (1 / R) * Σ [ Precision@i * rel(i) ]\n",
    "    donde:\n",
    "        - R es el número total de documentos relevantes en la colección.\n",
    "        - Precision@i es la precisión en la posición i.\n",
    "        - rel(i) = 1 si el documento en la posición i es relevante, 0 en caso contrario.\n",
    "\n",
    "    Parámetros\n",
    "    ----------\n",
    "    relevance : List[int]\n",
    "        Lista binaria donde cada posición representa un documento recuperado:\n",
    "        - 1 indica que el documento es relevante.\n",
    "        - 0 indica que el documento no es relevante.\n",
    "        Se asume que la lista incluye todos los documentos relevantes de la colección.\n",
    "\n",
    "    Retorna\n",
    "    -------\n",
    "    float\n",
    "        Valor de Average Precision en el rango [0.0, 1.0].\n",
    "        Retorna 0.0 si no hay documentos relevantes en la colección.\n",
    "    \"\"\"\n",
    "\n",
    "\t# Conversión de la lista a un array numPy para facilitar operaciones\n",
    "\trelevance = np.array(relevance, dtype = int)\n",
    "\t# Número total de documentos relevantes en la colección\n",
    "\ttotal_relevant = np.sum(relevance)\n",
    "\t# Si no hay documentos relevantes la métrica es 0.0\n",
    "\tif total_relevant == 0:\n",
    "\t\treturn 0.0\n",
    "\t# Si no se recuperaron documentos, la métrica es 0.0\n",
    "\tif len(relevance) == 0:\n",
    "\t\treturn 0.0\n",
    "\tprecisions = []\n",
    "\t# Recorrido del vector de relevancia, empezando posiciones en 1\n",
    "\tfor i, rel in enumerate(relevance, start = 1):  \n",
    "\t\t# Calculo de Precision@i considerando los documentos hasta la posición i\n",
    "\t\tif rel == 1:\n",
    "\t\t\tprecisions.append(precision_at_k(relevance, i))  \n",
    "\t# Promedio de las precisiones calculadas\n",
    "\treturn float(np.sum(precisions) / total_relevant)"
   ]
  },
  {
   "cell_type": "code",
   "execution_count": 31,
   "id": "269388e4",
   "metadata": {},
   "outputs": [
    {
     "data": {
      "text/plain": [
       "0.5961904761904762"
      ]
     },
     "execution_count": 31,
     "metadata": {},
     "output_type": "execute_result"
    }
   ],
   "source": [
    "average_precision([0,1,0,1,1,1,1])"
   ]
  },
  {
   "cell_type": "code",
   "execution_count": null,
   "id": "5a39506e",
   "metadata": {},
   "outputs": [],
   "source": [
    "def mean_average_precision(queries_relevances: List[Union[List[int], np.ndarray]]) -> float:\n",
    "    \n",
    "\t\"\"\"\n",
    "    Calcula la métrica de Mean Average Precision (MAP) en recuperación de información.\n",
    "\n",
    "    MAP es una extensión de Average Precision (AP) para múltiples consultas.\n",
    "    Se obtiene calculando el Average Precision de cada consulta y luego\n",
    "    promediando estos valores.\n",
    "\n",
    "    Fórmula:\t# Si no se recuperaron documentos, el recall@k es 0.0\n",
    "\n",
    "        MAP = (1 / Q) * Σ [ AP(q) ]\n",
    "    donde:\n",
    "        - Q es el número de consultas.\n",
    "        - AP(q) es el Average Precision de la consulta q.\n",
    "\n",
    "    Parámetros\n",
    "    ----------\n",
    "    queries_relevances : List[List[int]]\n",
    "        Lista de consultas, donde cada consulta es representada por un vector binario:\n",
    "        - 1 indica que el documento es relevante.\n",
    "        - 0 indica que el documento no es relevante.\n",
    "        Se asume que cada vector incluye todos los documentos relevantes de la colección para esa consulta.\n",
    "\n",
    "    Retorna\n",
    "    -------\n",
    "    float\n",
    "        Valor de Mean Average Precision en el rango [0.0, 1.0].\n",
    "        Retorna 0.0 si no se proporciona ninguna consulta.\n",
    "    \"\"\"\n",
    "\n",
    "\t# Si no hay queries, la métrica es 0.0\n",
    "\tif len(queries_relevances) == 0:\n",
    "\t\treturn 0.0\n",
    "\t# Se calculan los valores de precisión para todas las queries\n",
    "\taverage_precision_values = [average_precision(r) for r in queries_relevances]\n",
    "\t# Retornar el promedio de los valores de precisión\n",
    "\treturn float(np.mean(average_precision_values))"
   ]
  },
  {
   "cell_type": "code",
   "execution_count": null,
   "id": "2acb6a0c",
   "metadata": {},
   "outputs": [],
   "source": [
    "def dcg_at_k(relevance: Union[List[int], np.ndarray], k: int) -> float:\n",
    "\n",
    "\t\"\"\"\n",
    "    Calcula la métrica Discounted Cumulative Gain (DCG) hasta la posición K.\n",
    "\n",
    "    DCG mide la ganancia acumulada de los documentos relevantes, ponderada\n",
    "    por su posición en la lista de resultados. Documentos relevantes en\n",
    "    posiciones más altas contribuyen más que aquellos en posiciones más bajas.\n",
    "\n",
    "    Fórmula:\n",
    "        DCG@K = Σ ( rel_i / log2(max(i,2)) ), para i = 1..K\n",
    "\n",
    "    Parámetros\n",
    "    ----------\n",
    "    relevance : List[int]\n",
    "        Lista de relevancias de los documentos ordenados por ranking.\n",
    "        La relevancia es un número natural (ejemplo: 0, 1, 2, 3, ...).\n",
    "    k : int\n",
    "        Posición de corte K hasta la cual se calcula el DCG.\n",
    "\n",
    "    Retorna\n",
    "    -------\n",
    "    float\n",
    "        Valor de DCG@K (número real >= 0).\n",
    "        Retorna 0.0 si no hay documentos o si K <= 0.\n",
    "    \"\"\"\n",
    "\n",
    "\t# Se valida que k sea positivo y mayor a cero\n",
    "\tif k <= 0:\n",
    "\t\traise ValueError(\"K should be greater than 0\")\n",
    "\t# Si no se recuperaron documentos, la métrica es 0.0\n",
    "\tif len(relevance) == 0:\n",
    "\t\treturn 0.0\n",
    "\t# Se limita k al número real de documentos recuperados\n",
    "\tk = min(k, len(relevance))\n",
    "\t# Se crea el arreglo de numPy con los primeros k elementos\n",
    "\trelevance = np.array(relevance[:k], dtype = float)\n",
    "\tdcg = 0.0\n",
    "\t# Se calcula la métrica aplicando la formula\n",
    "\tfor i in range(k):\n",
    "\t\tdcg = dcg + relevance[i] / np.log2(max(i + 1, 2))\n",
    "\treturn float(dcg)"
   ]
  },
  {
   "cell_type": "code",
   "execution_count": 25,
   "id": "fabfdf04",
   "metadata": {},
   "outputs": [
    {
     "data": {
      "text/plain": [
       "10.279642067948915"
      ]
     },
     "execution_count": 25,
     "metadata": {},
     "output_type": "execute_result"
    }
   ],
   "source": [
    "dcg_at_k([4, 4, 3, 0, 0, 1, 3, 3, 3, 0], 6)"
   ]
  },
  {
   "cell_type": "code",
   "execution_count": null,
   "id": "d9aa83d9",
   "metadata": {},
   "outputs": [],
   "source": [
    "def ndcg_at_k(relevance: Union[List[int], np.ndarray], k: int) -> float:\n",
    "\n",
    "\t\"\"\"\n",
    "    Calcula la métrica Normalized Discounted Cumulative Gain (NDCG) hasta la posición K.\n",
    "\n",
    "    NDCG es la versión normalizada de DCG, donde se divide el valor de DCG\n",
    "    entre el DCG ideal (IDCG). De esta manera, NDCG siempre toma valores\n",
    "    entre 0 y 1, independientemente de la distribución de relevancias.\n",
    "\n",
    "    Fórmula:\n",
    "        NDCG@K = DCG@K / IDCG@K\n",
    "\n",
    "    Parámetros\n",
    "    ----------\n",
    "    relevance : List[int]\n",
    "        Lista de relevancias de los documentos ordenados por ranking.\n",
    "        La relevancia es un número natural (ejemplo: 0, 1, 2, 3, ...).\n",
    "    k : int\n",
    "        Posición de corte K hasta la cual se calcula el NDCG.\n",
    "\n",
    "    Retorna\n",
    "    -------\n",
    "    float\n",
    "        Valor de NDCG@K (número real entre 0 y 1).\n",
    "        Retorna 0.0 si no hay documentos, si IDCG = 0 o si K <= 0.\n",
    "    \"\"\"\n",
    "\t\n",
    "\t# Se valida que k sea positivo y mayor a cero\n",
    "\tif k <= 0:\n",
    "\t\traise ValueError(\"K should be greater than 0\")\n",
    "\t# Si no se recuperaron documentos, la métrica es 0.0\n",
    "\tif len(relevance) == 0:\n",
    "\t\treturn 0.0\n",
    "\t# Se calcula el dcg@k\n",
    "\tdcg = dcg_at_k(relevance, k)\n",
    "\t# Se ordena la query para lograr el mayor dcg\n",
    "\tideal_relevance = sorted(relevance, reverse = True)\n",
    "\tidcg = dcg_at_k(ideal_relevance, k)\n",
    "\tif idcg == 0:\n",
    "\t\treturn 0.0\n",
    "\t# Se retorna el dcg normalizado\n",
    "\treturn float(dcg / idcg)"
   ]
  },
  {
   "cell_type": "code",
   "execution_count": 27,
   "id": "eb96d688",
   "metadata": {},
   "outputs": [
    {
     "data": {
      "text/plain": [
       "0.7424602308163405"
      ]
     },
     "execution_count": 27,
     "metadata": {},
     "output_type": "execute_result"
    }
   ],
   "source": [
    "ndcg_at_k([4, 4, 3, 0, 0, 1, 3, 3, 3, 0], 6)"
   ]
  }
 ],
 "metadata": {
  "kernelspec": {
   "display_name": "env (3.13.5)",
   "language": "python",
   "name": "python3"
  },
  "language_info": {
   "codemirror_mode": {
    "name": "ipython",
    "version": 3
   },
   "file_extension": ".py",
   "mimetype": "text/x-python",
   "name": "python",
   "nbconvert_exporter": "python",
   "pygments_lexer": "ipython3",
   "version": "3.13.5"
  }
 },
 "nbformat": 4,
 "nbformat_minor": 5
}
