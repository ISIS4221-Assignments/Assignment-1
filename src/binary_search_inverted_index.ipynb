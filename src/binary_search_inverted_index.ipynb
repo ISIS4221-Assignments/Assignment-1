{
 "cells": [
  {
   "cell_type": "markdown",
   "id": "c58f8680",
   "metadata": {},
   "source": [
    "# Librerias"
   ]
  },
  {
   "cell_type": "code",
   "execution_count": null,
   "id": "cddc0047",
   "metadata": {},
   "outputs": [],
   "source": [
    "# Librerias para el procesamiento de lenguaje natural\n",
    "\n",
    "from nltk.stem import SnowballStemmer\n",
    "from nltk.corpus import stopwords\n",
    "import nltk\n",
    "\n",
    "# Librerias para el procesamiento de archivos xml\n",
    "import xml.etree.ElementTree as ET\n",
    "\n",
    "# Librerias de uso general\n",
    "from collections import defaultdict\n",
    "import os\n",
    "import re\n",
    "\n",
    "# Configuración de palabras de parada\n",
    "nltk.download(\"stopwords\")"
   ]
  },
  {
   "cell_type": "markdown",
   "id": "41fd4b9c",
   "metadata": {},
   "source": [
    "# Proceso de preprocesamiento"
   ]
  },
  {
   "cell_type": "code",
   "execution_count": null,
   "id": "7bbf8bf9",
   "metadata": {},
   "outputs": [],
   "source": []
  }
 ],
 "metadata": {
  "kernelspec": {
   "display_name": "env (3.13.5)",
   "language": "python",
   "name": "python3"
  },
  "language_info": {
   "name": "python",
   "version": "3.13.5"
  }
 },
 "nbformat": 4,
 "nbformat_minor": 5
}
