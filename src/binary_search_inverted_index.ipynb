{
 "cells": [
  {
   "cell_type": "markdown",
   "id": "c58f8680",
   "metadata": {},
   "source": [
    "# Librerias"
   ]
  },
  {
   "cell_type": "code",
   "execution_count": 1,
   "id": "cddc0047",
   "metadata": {},
   "outputs": [
    {
     "name": "stderr",
     "output_type": "stream",
     "text": [
      "[nltk_data] Downloading package stopwords to /home/nico/nltk_data...\n",
      "[nltk_data]   Unzipping corpora/stopwords.zip.\n"
     ]
    }
   ],
   "source": [
    "# Librerias para el procesamiento de lenguaje natural\n",
    "\n",
    "from nltk.stem import SnowballStemmer\n",
    "from nltk.corpus import stopwords\n",
    "import nltk\n",
    "\n",
    "# Librerias para el procesamiento de archivos xml\n",
    "import xml.etree.ElementTree as ET\n",
    "\n",
    "# Librerias de uso general\n",
    "from collections import defaultdict\n",
    "import os\n",
    "import re\n",
    "\n",
    "# Librerias para tipado de funciones\n",
    "from typing import List\n",
    "\n",
    "# Configuración de palabras de parada\n",
    "nltk.download(\"stopwords\")\n",
    "stop_words = set(stopwords.words(\"english\"))\n",
    "\n",
    "# Configuración de stemmer\n",
    "stemmer = SnowballStemmer(\"english\")"
   ]
  },
  {
   "cell_type": "markdown",
   "id": "41fd4b9c",
   "metadata": {},
   "source": [
    "# Proceso de preprocesamiento"
   ]
  },
  {
   "cell_type": "code",
   "execution_count": 4,
   "id": "7bbf8bf9",
   "metadata": {},
   "outputs": [],
   "source": [
    "def preprocess(text: str) -> List[str]:\n",
    "    # Normalización del texto\n",
    "    text = text.lower()\n",
    "    # Tokenización simple a nivel de palabra\n",
    "    tokens = re.findall(r\"\\w+\", text)\n",
    "    # Quitar stopwords y aplicar stemming\n",
    "    processed = [stemmer.stem(token) for token in tokens if token not in stop_words]\n",
    "    # Retornar texto preprocesado\n",
    "    return processed"
   ]
  },
  {
   "cell_type": "code",
   "execution_count": null,
   "id": "ab222820",
   "metadata": {},
   "outputs": [
    {
     "name": "stdout",
     "output_type": "stream",
     "text": [
      "['cat', 'run', 'quick', 'garden']\n"
     ]
    }
   ],
   "source": [
    "print(preprocess(\"The cats are running quickly in the gardens\"))"
   ]
  },
  {
   "cell_type": "markdown",
   "id": "1c5cca6d",
   "metadata": {},
   "source": [
    "# Ingesta de documentos"
   ]
  },
  {
   "cell_type": "code",
   "execution_count": null,
   "id": "c5e1e57a",
   "metadata": {},
   "outputs": [],
   "source": [
    "# Ruta en la que se encuentran los documentos a procesar\n",
    "path_docs = \"../data/test\"\n",
    "\n",
    "def load_documents(path_docs: str):\n",
    "\t# Diccionario para almacenar los documentos por id\n",
    "\tdocs = {}\n",
    "\t# Se revisan únicamente los archivos relevantes\n",
    "\tfor file_name in os.listdir(path_docs):\n",
    "\t\tif not file_name.endswith(\".naf\"):\n",
    "\t\t\tcontinue\n",
    "\t\t# Construccion del arbol de atributos del documento\n",
    "\t\ttree = ET.parse(os.path.join(path_docs, file_name))\n",
    "\t\troot = tree.getroot()\n",
    "\t\t# Id recuperado desde el atributo pupblicId\n",
    "\t\tdoc_id = root.find(\"nafHeader/public\").attrib[\"publicId\"]\n",
    "\n",
    "\t\ttitle = root.find(\"nafHeader/fileDesc\").attrib.get(\"title\", \"\")\n",
    "\n",
    "\t\traw_element = root.find(\"raw\")\n",
    "\t\tcontent = raw_element.text if raw_element is not None else \"\"\n",
    "\n",
    "\t\ttokens = preprocess(title +  \" \" + content)\n",
    "\t\tdocs[doc_id] = tokens\n",
    "\n",
    "\treturn docs"
   ]
  },
  {
   "cell_type": "code",
   "execution_count": 15,
   "id": "d3d6ef18",
   "metadata": {},
   "outputs": [
    {
     "name": "stdout",
     "output_type": "stream",
     "text": [
      "d001\n",
      "William Beaumont and the Human Digestion\n",
      "--\n",
      "William Beaumont and the Human Digestion.\n",
      "\n",
      "William Beaumont: Physiology of digestion Image Source.  On November 21, 1785, US-American surgeon William Beaumont was born. He became best known as “Father of Gastric Physiology” following his research on human digestion. William Beaumont was born in Lebanon, Connecticut and became a physician. He served as a surgeon’s mate in the Army during the War of 1812. He opened a private practice in Plattsburgh, New York, but rejoined the Army as a surgeon in 1819. Beaumont was stationed at Fort Mackinac on Mackinac Island in Michigan in the early 1820s when it existed to protect the interests of the American Fur Company. The fort became the refuge for a wounded 19-year-old French-Canadian fur trader named Alexis St. Martin when a shotgun went off by accident in the American Fur Company store at close range June 6th, 1822. St. Martin’s wound was quite serious because his stomach was perforated and several ribs were broken. Nobody really expected that the young man would survive but he really did. The skin around St. Martin’s wound fused to the hole in his stomach, leaving a permanent opening – a gastric fistula. [1] Beaumont quickly noticed that there was much research potential. Back then, not too much was known about the digestive system. In order to gain more information, Beaumont performed numerous experiments on St. Martin over a period of eight years. The experiments must have been really uncomfortable for the man, who was inserted bits of different foods tied to strings through the hole in his stomach, pulling them out periodically to observe digestion. Beaumont also removed gastric juice, examining it to better understand its nature. Beaumont became the “Father of Gastric Physiology” and his findings were published in the book “Experiments and Observations on the Gastric Juice and the Physiology of Digestion” in 1833. The work is now considered as the basis of much of the early knowledge on digestion. William Beaumont discovered that hydrochloric acid is the main chemical responsible for breaking down food and he suggested that another important digestive chemical, which is now known as pepsin. He suggested that digestion is a chemical process, not merely a mechanical one caused by stomach muscle movement. Also, Beaumont gave insights on how emotions, temperature, and physical activity can affect digestion. Beaumont’s famous patient, St. Martin, outlived the scientist even though his wound never completely healed. He had several children and died at the age of 83. [2] At yovisto, you may be interested in a video lecture on The Digestive System.\n",
      "{'d001': ['william', 'beaumont', 'human', 'digest', 'william', 'beaumont', 'human', 'digest', 'william', 'beaumont', 'physiolog', 'digest', 'imag', 'sourc', 'novemb', '21', '1785', 'us', 'american', 'surgeon', 'william', 'beaumont', 'born', 'becam', 'best', 'known', 'father', 'gastric', 'physiolog', 'follow', 'research', 'human', 'digest', 'william', 'beaumont', 'born', 'lebanon', 'connecticut', 'becam', 'physician', 'serv', 'surgeon', 'mate', 'armi', 'war', '1812', 'open', 'privat', 'practic', 'plattsburgh', 'new', 'york', 'rejoin', 'armi', 'surgeon', '1819', 'beaumont', 'station', 'fort', 'mackinac', 'mackinac', 'island', 'michigan', 'earli', '1820s', 'exist', 'protect', 'interest', 'american', 'fur', 'compani', 'fort', 'becam', 'refug', 'wound', '19', 'year', 'old', 'french', 'canadian', 'fur', 'trader', 'name', 'alexi', 'st', 'martin', 'shotgun', 'went', 'accid', 'american', 'fur', 'compani', 'store', 'close', 'rang', 'june', '6th', '1822', 'st', 'martin', 'wound', 'quit', 'serious', 'stomach', 'perfor', 'sever', 'rib', 'broken', 'nobodi', 'realli', 'expect', 'young', 'man', 'would', 'surviv', 'realli', 'skin', 'around', 'st', 'martin', 'wound', 'fuse', 'hole', 'stomach', 'leav', 'perman', 'open', 'gastric', 'fistula', '1', 'beaumont', 'quick', 'notic', 'much', 'research', 'potenti', 'back', 'much', 'known', 'digest', 'system', 'order', 'gain', 'inform', 'beaumont', 'perform', 'numer', 'experi', 'st', 'martin', 'period', 'eight', 'year', 'experi', 'must', 'realli', 'uncomfort', 'man', 'insert', 'bit', 'differ', 'food', 'tie', 'string', 'hole', 'stomach', 'pull', 'period', 'observ', 'digest', 'beaumont', 'also', 'remov', 'gastric', 'juic', 'examin', 'better', 'understand', 'natur', 'beaumont', 'becam', 'father', 'gastric', 'physiolog', 'find', 'publish', 'book', 'experi', 'observ', 'gastric', 'juic', 'physiolog', 'digest', '1833', 'work', 'consid', 'basi', 'much', 'earli', 'knowledg', 'digest', 'william', 'beaumont', 'discov', 'hydrochlor', 'acid', 'main', 'chemic', 'respons', 'break', 'food', 'suggest', 'anoth', 'import', 'digest', 'chemic', 'known', 'pepsin', 'suggest', 'digest', 'chemic', 'process', 'mere', 'mechan', 'one', 'caus', 'stomach', 'muscl', 'movement', 'also', 'beaumont', 'gave', 'insight', 'emot', 'temperatur', 'physic', 'activ', 'affect', 'digest', 'beaumont', 'famous', 'patient', 'st', 'martin', 'outliv', 'scientist', 'even', 'though', 'wound', 'never', 'complet', 'heal', 'sever', 'children', 'die', 'age', '83', '2', 'yovisto', 'may', 'interest', 'video', 'lectur', 'digest', 'system']}\n"
     ]
    }
   ],
   "source": [
    "print(load_documents(path_docs))"
   ]
  }
 ],
 "metadata": {
  "kernelspec": {
   "display_name": "env (3.13.5)",
   "language": "python",
   "name": "python3"
  },
  "language_info": {
   "codemirror_mode": {
    "name": "ipython",
    "version": 3
   },
   "file_extension": ".py",
   "mimetype": "text/x-python",
   "name": "python",
   "nbconvert_exporter": "python",
   "pygments_lexer": "ipython3",
   "version": "3.13.5"
  }
 },
 "nbformat": 4,
 "nbformat_minor": 5
}
