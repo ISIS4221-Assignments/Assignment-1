{
 "cells": [
  {
   "cell_type": "markdown",
   "id": "c99e610a",
   "metadata": {},
   "source": [
    "# 0. Configuración de librerias y requisitos previos"
   ]
  },
  {
   "cell_type": "code",
   "execution_count": null,
   "id": "b2d2f8ec",
   "metadata": {},
   "outputs": [],
   "source": [
    "\"\"\"\n",
    "Se importan las librerías necesarias para el procesamiento de texto y manejo de archivos.\n",
    "\n",
    "- nltk.tokenize.regexp_tokenize: para tokenización basada en expresiones regulares.\n",
    "- nltk.stem.SnowballStemmer: para aplicar stemming en inglés.\n",
    "- xml.etree.ElementTree: para parseo de archivos en formato XML.\n",
    "- collections: para estructuras de datos con valores por defecto y operaciones de conteo.\n",
    "- os: para operaciones relacionadas con el sistema de archivos.\n",
    "- typing: para anotaciones de tipo.\n",
    "- math: para operaciones matemáticas.\n",
    "- numpy: manejo del tipado de las métricas.\n",
    "\"\"\"\n",
    "\n",
    "from nltk.tokenize import regexp_tokenize\n",
    "from nltk.stem import SnowballStemmer\n",
    "\n",
    "from gensim import corpora, models, similarities\n",
    "\n",
    "import xml.etree.ElementTree as ET\n",
    "\n",
    "from collections import Counter, defaultdict\n",
    "\n",
    "from typing import List, Dict, Union, Set, Tuple\n",
    "\n",
    "import numpy as np\n",
    "\n",
    "import math\n",
    "\n",
    "import os"
   ]
  }
 ],
 "metadata": {
  "kernelspec": {
   "display_name": "env",
   "language": "python",
   "name": "python3"
  },
  "language_info": {
   "name": "python",
   "version": "3.13.5"
  }
 },
 "nbformat": 4,
 "nbformat_minor": 5
}
